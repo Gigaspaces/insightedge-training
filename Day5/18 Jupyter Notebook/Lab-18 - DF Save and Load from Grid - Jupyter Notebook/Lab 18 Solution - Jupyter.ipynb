{
 "cells": [
  {
   "cell_type": "code",
   "execution_count": null,
   "metadata": {
    "collapsed": true
   },
   "outputs": [],
   "source": [
    "from pyspark.conf import SparkConf\n",
    "from pyspark.sql import SparkSession\n",
    "\n",
    "# configure connection to the space\n",
    "conf = SparkConf()\n",
    "conf.setAppName(\"InsightEdge Python Example\")\n",
    "conf.set(\"spark.insightedge.space.name\", \"demo\")\n",
    "conf.set(\"spark.insightedge.space.lookup.group\", \"insightedge\")\n",
    "conf.set(\"spark.insightedge.space.lookup.locator\", \"127.0.0.1:4174\")\n",
    "\n",
    "# create pyspark.sql.SparkSession\n",
    "spark = SparkSession.builder.config(conf=conf).getOrCreate()"
   ]
  },
  {
   "cell_type": "code",
   "execution_count": null,
   "metadata": {
    "collapsed": true
   },
   "outputs": [],
   "source": [
    "# load SF salaries dataset from file\n",
    "jsonFilePath = os.path.join(os.environ[\"XAP_HOME\"], \"insightedge/data/sf_salaries_sample.json\")\n",
    "jsonDf = spark.read.json(jsonFilePath)\n"
   ]
  },
  {
   "cell_type": "code",
   "execution_count": null,
   "metadata": {
    "collapsed": true
   },
   "outputs": [],
   "source": [
    "jsonDf.write.format(\"org.apache.spark.sql.insightedge\").mode(\"overwrite\").save(\"salaries\")\n"
   ]
  },
  {
   "cell_type": "code",
   "execution_count": null,
   "metadata": {},
   "outputs": [],
   "source": [
    "gridDf = spark.read.format(\"org.apache.spark.sql.insightedge\").option(\"collection\", \"salaries\").load()\n",
    "gridDf.show()\n"
   ]
  },
  {
   "cell_type": "code",
   "execution_count": null,
   "metadata": {},
   "outputs": [],
   "source": [
    "gridDf = spark.read.format(\"org.apache.spark.sql.insightedge\").option(\"collection\", \"Product\").load()\n",
    "gridDf.show()"
   ]
  },
  {
   "cell_type": "code",
   "execution_count": null,
   "metadata": {
    "collapsed": true
   },
   "outputs": [],
   "source": [
    "from pyspark.sql.types import *\n",
    "schema = StructType([\n",
    "  StructField(\"CatalogNumber\", StringType(), True),\n",
    "  StructField(\"Category\", StringType(), True),\n",
    "  StructField(\"Name\", StringType(), True),\n",
    "  StructField(\"Price\", FloatType(), True)]\n",
    "  )\n",
    "df = spark.read.format(\"org.apache.spark.sql.insightedge\").option(\"collection\",\"Product\").load(schema=schema)"
   ]
  },
  {
   "cell_type": "code",
   "execution_count": null,
   "metadata": {},
   "outputs": [],
   "source": [
    "df.head()"
   ]
  },
  {
   "cell_type": "code",
   "execution_count": null,
   "metadata": {},
   "outputs": [],
   "source": [
    "df.show()"
   ]
  },
  {
   "cell_type": "code",
   "execution_count": null,
   "metadata": {
    "collapsed": true
   },
   "outputs": [],
   "source": []
  }
 ],
 "metadata": {
  "kernelspec": {
   "display_name": "Python 3",
   "language": "python",
   "name": "python3"
  },
  "language_info": {
   "codemirror_mode": {
    "name": "ipython",
    "version": 3
   },
   "file_extension": ".py",
   "mimetype": "text/x-python",
   "name": "python",
   "nbconvert_exporter": "python",
   "pygments_lexer": "ipython3",
   "version": "3.6.3"
  }
 },
 "nbformat": 4,
 "nbformat_minor": 2
}
